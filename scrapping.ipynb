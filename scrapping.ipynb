{
 "cells": [
  {
   "cell_type": "code",
   "execution_count": 1,
   "id": "d9ff91b1-902e-43ea-a887-899f53b13ee8",
   "metadata": {},
   "outputs": [],
   "source": [
    "from bs4 import BeautifulSoup\n",
    "import requests\n",
    "import re\n",
    "from io import BytesIO\n",
    "from django.core.files.base import File"
   ]
  },
  {
   "cell_type": "code",
   "execution_count": 2,
   "id": "c2608e4a-8dc8-430e-82c0-3fe2c8d9c0d9",
   "metadata": {},
   "outputs": [],
   "source": [
    "url = \"http://www.annonce-algerie.com/upload/flux/rss_1.xml\""
   ]
  },
  {
   "cell_type": "code",
   "execution_count": 3,
   "id": "f983a20f-c39c-4702-ba36-57b5e0dbd556",
   "metadata": {},
   "outputs": [],
   "source": [
    "response = requests.get(url)"
   ]
  },
  {
   "cell_type": "code",
   "execution_count": 4,
   "id": "ec922aa7-95a4-4fe0-9ce8-e58edd39d8a1",
   "metadata": {},
   "outputs": [
    {
     "data": {
      "text/plain": [
       "<Response [200]>"
      ]
     },
     "execution_count": 4,
     "metadata": {},
     "output_type": "execute_result"
    }
   ],
   "source": [
    "response"
   ]
  },
  {
   "cell_type": "code",
   "execution_count": 5,
   "id": "6f689276-c12d-4db9-8904-ddd83618a5fb",
   "metadata": {},
   "outputs": [],
   "source": [
    "data =response.text "
   ]
  },
  {
   "cell_type": "code",
   "execution_count": 6,
   "id": "8c4f2b53-fa40-40f9-bb4a-f57aba880e2a",
   "metadata": {},
   "outputs": [],
   "source": [
    "soup = BeautifulSoup(data,'xml')"
   ]
  },
  {
   "cell_type": "code",
   "execution_count": 7,
   "id": "96e558c0-de35-486a-90bc-7912ab4d0658",
   "metadata": {},
   "outputs": [],
   "source": [
    "items =soup.find_all('item')"
   ]
  },
  {
   "cell_type": "code",
   "execution_count": 8,
   "id": "6fa19c4f-caf8-47ed-a7c5-6691323f6bdc",
   "metadata": {},
   "outputs": [],
   "source": [
    "links=[]\n",
    "for item in items:\n",
    "    links.append(item.find('link').text)"
   ]
  },
  {
   "cell_type": "code",
   "execution_count": 9,
   "id": "28999327-7325-485f-b9cb-993839d9f733",
   "metadata": {},
   "outputs": [],
   "source": [
    "data_ai=[]\n",
    "for link in links : \n",
    "    ai={}\n",
    "    response = requests.get(link)\n",
    "    data = BeautifulSoup(response.text,'html.parser')\n",
    "    tables=data.find_all('table',{'class':'da_rub_cadre'})\n",
    "    for table in tables :\n",
    "        table_label=table.find_all('td',{'class':'da_label_field'})\n",
    "        table_content=table.find_all('td',{'class':'da_field_text'})\n",
    "        cpt = 0\n",
    "        if len(table_label)==len(table_content):\n",
    "            titres = table.find('tr',{'class':'da_entete'})\n",
    "            if titres!=None:\n",
    "                titre =titres.text  \n",
    "                titre_table =titre.split(' ')\n",
    "                co = 1 \n",
    "                titre=''\n",
    "                while len(titre_table) >co :\n",
    "                    titre = titre+' '+titre_table[co]\n",
    "                    co=co+1\n",
    "                ai['titre']=titre\n",
    "                while cpt < len(table_label) :\n",
    "                    if table_label:\n",
    "                        if table_label[cpt].text.strip()=='Catégorie' :\n",
    "                            label=table_label[cpt].text\n",
    "                            content=table_content[cpt].text\n",
    "                            contents=content.split('>')\n",
    "                            if len(contents)>2:\n",
    "                                content = contents[1].strip()\n",
    "                            ai[label]= content\n",
    "                        elif table_label[cpt].text.strip()=='Localisation' :\n",
    "                            label=table_label[cpt].text\n",
    "                            content=table_content[cpt].text\n",
    "                            contents=content.split('>')\n",
    "                            if len(contents)>2:\n",
    "                                content = contents[len(contents)-2].strip()+\" \"+contents[len(contents)-1].strip()\n",
    "                            ai[label]=content\n",
    "                        elif table_label[cpt].text.strip()=='Modifiée le':\n",
    "                                    ai['date_Publication']=table_content[cpt].text.replace(\"/\", \"-\")[::-1]+'T00:00'\n",
    "                        elif table_label[cpt].text.strip()=='Prix'or table_label[cpt].text.strip()=='Surface': \n",
    "                            label=table_label[cpt].text.strip()\n",
    "                            content= re.findall(r'\\d+',table_content[cpt].text.strip())[0]\n",
    "                            ai[label]=content\n",
    "                        else    :\n",
    "                            label=table_label[cpt].text.strip()\n",
    "                            content=table_content[cpt].text.strip()\n",
    "                            ai[label]=content\n",
    "                    cpt=cpt+1\n",
    "        imgs=table.find_all('img',{'class':'PhotoMin1'})\n",
    "        images=[]\n",
    "        if imgs !=None :\n",
    "            for img in imgs:\n",
    "                image_url= \"http://www.annonce-algerie.com/\"+img['src']\n",
    "                response = requests.get(image_url)\n",
    "                file = BytesIO(response.content)\n",
    "                file_ai=File(file)\n",
    "                images.append(file_ai)\n",
    "            if len(images)!= 0 : \n",
    "                ai['uploaded_images']=images    \n",
    "    data_tel = data.find('li',{'class':'cellphone'})\n",
    "    tel = data_tel.text.split(':')[1].strip()\n",
    "    ai['information_tel']=tel\n",
    "    data_ai.append(ai)       "
   ]
  },
  {
   "cell_type": "code",
   "execution_count": 10,
   "id": "0d472ec2-7b9a-48c5-b62b-ab0f5c8e8e70",
   "metadata": {},
   "outputs": [],
   "source": [
    "rel_data_ai = []\n",
    "for data in data_ai:\n",
    "    if len(data) > 1:\n",
    "        if not ('uploaded_images' in data):\n",
    "            data['uploaded_images'] = []\n",
    "        data['user'] = 1\n",
    "        rel_data_ai.append(data)"
   ]
  },
  {
   "cell_type": "code",
   "execution_count": 11,
   "id": "e0596e96-1749-4474-9a60-00d386ed97b6",
   "metadata": {},
   "outputs": [
    {
     "name": "stdout",
     "output_type": "stream",
     "text": [
      "[{'titre': ' Photos', 'Catégorie': 'Terrain', 'Localisation': 'Djelfa Ain Oussera', 'Adresse': 'a.oussera', 'Surface': '500', 'Prix': '850', 'Texte': 'terrain a vendre de 50 h ( livret fonçier+ forage+ l electricite a cote) +\\r110h ( livret fonçier equiper de tout ) pour plus d informations apllez moi et merci \\r0781645418/0775168519/0668620144', 'Insérée le': '01/02/2023', 'date_Publication': '3202-20-10T00:00', 'uploaded_images': [<File: None>, <File: None>, <File: None>], 'information_tel': '0668620144', 'user': 1}, {'titre': ' 700m commercial café chergui vert alger', 'Catégorie': 'Vente', 'Localisation': 'Alger Bordj El Kiffan', 'Adresse': 'café chergui vert alger', 'Surface': '700', 'Prix': '20', 'Texte': 'agence immobilière ilya vd commercial 100% terrain deux 02façade 700m² acte et livret de foncier le prix : 14 milliards  tél ou wathssap 213 770 407 047', 'Insérée le': '01/02/2023', 'date_Publication': '3202-20-10T00:00', 'information_tel': '+213 77 04 07 047', 'uploaded_images': [], 'user': 1}, {'titre': ' 920m bien placé', 'Catégorie': 'Vente', 'Localisation': 'Alger Bordj El Bahri', 'Adresse': 'bordj el bahri coté route national', 'Surface': '920', 'Prix': '17', 'Texte': 'agence immobilière ilya vd 920m² centre ville façade 23x44m , acte le prix : 170 000da/le mettre carré  tél ou bien wathssap 213 770 407 047', 'Insérée le': '01/02/2023', 'date_Publication': '3202-20-10T00:00', 'information_tel': '+213 77 04 07 047', 'uploaded_images': [], 'user': 1}, {'titre': ' Top villa picsine  800m', 'Catégorie': 'Vente', 'Localisation': 'Alger Draria', 'Adresse': 'draria vert sebala', 'Surface': '800', 'Prix': '26', 'Texte': 'agence immobilière ilya villa 800m² , hammam piscine chauffé bien situé le prix : 26 milliards les photos sur wathssap 213 770 407 047', 'Insérée le': '01/02/2023', 'date_Publication': '3202-20-10T00:00', 'information_tel': '+213 77 04 07 047', 'uploaded_images': [], 'user': 1}, {'titre': ' 400m lotissement a', 'Catégorie': 'Terrain', 'Localisation': 'Alger Baba Hassen', 'Adresse': 'coté clinique el djazair baba hassen', 'Surface': '400', 'Prix': '95', 'Texte': 'agence immobilière ilya vd deux 02façade 400m acte et livret foncier le prix fixe  : 09milliards 500u', 'Insérée le': '01/02/2023', 'date_Publication': '3202-20-10T00:00', 'information_tel': '+213 77 04 07 047', 'uploaded_images': [], 'user': 1}, {'titre': ' Villa draria el yasmine', 'Catégorie': 'Vente', 'Localisation': 'Alger Draria', 'Adresse': 'draria  el yasmine', 'Surface': '200', 'Prix': '87', 'Texte': 'agence immobilière ilya vd villa coté lotissement el yasmine r+2 , bien situé acte et conformité le prix : 08millairds 700u les photos sur wathssap 213 770 407 047', 'Insérée le': '01/02/2023', 'date_Publication': '3202-20-10T00:00', 'information_tel': '+213 77 04 07 047', 'uploaded_images': [], 'user': 1}, {'titre': ' Villa el yasmine draria', 'Catégorie': 'Vente', 'Localisation': 'Alger Draria', 'Adresse': 'el yassamine draria', 'Surface': '200', 'Prix': '85', 'Texte': 'agence immobilière ilya vd villa 200m² r 2 , bien situé a draria el yasamine avec conformité  prix offert 08 milliards 850u tél ou wathssap 213 770 407 047', 'Insérée le': '28/01/2023', 'date_Publication': '3202-10-82T00:00', 'information_tel': '+213 77 04 07 047', 'uploaded_images': [], 'user': 1}, {'titre': ' 400m baba hassen lotissement a', 'Catégorie': 'Vente', 'Localisation': 'Alger Baba Hassen', 'Adresse': \"lotissement     'a' baba hassen\", 'Surface': '400', 'Prix': '10', 'Texte': 'agence immobilière ilya vd 400m² avec 02façade acte et livret de foncier le prix : 10milliards 213 770 407 047 tél ou wathssap', 'Insérée le': '28/01/2023', 'date_Publication': '3202-10-82T00:00', 'information_tel': '+213 77 04 07 047', 'uploaded_images': [], 'user': 1}, {'titre': ' Chambre a loue', 'Catégorie': 'Location', 'Localisation': 'Alger Dely Ibrahim', 'Surface': '20', 'Prix': '18', 'Texte': 'propose colocation dely ibrahim pour femme ou fille.mob:0771.38.73.65', 'Insérée le': '28/01/2023', 'date_Publication': '3202-10-82T00:00', 'information_tel': '0771 38 73 65', 'uploaded_images': [], 'user': 1}, {'titre': ' F3 résidence afak', 'Catégorie': 'Location', 'Localisation': 'Alger El Achour', 'Surface': '80', 'Prix': '55', 'Texte': 'agence immo loue f3 résidence afak el achour.mob:0771.38.73.65 ag', 'Insérée le': '28/01/2023', 'date_Publication': '3202-10-82T00:00', 'information_tel': '0771 38 73 65', 'uploaded_images': [], 'user': 1}, {'titre': ' Loue local aïn benian', 'Catégorie': 'Bureaux & Commerces', 'Localisation': 'Alger Ain Bénian', 'Surface': '32', 'Prix': '100', 'Texte': 'agence immo loue à aïn benian local artère principale 100% commercial.mob:0771.38.73.65 ag.', 'Insérée le': '28/01/2023', 'date_Publication': '3202-10-82T00:00', 'information_tel': '0771 38 73 65', 'uploaded_images': [], 'user': 1}, {'titre': ' Loue local air de france', 'Catégorie': 'Bureaux & Commerces', 'Localisation': 'Alger Bouzaréah', 'Surface': '300', 'Prix': '500', 'Texte': 'agence immo loue à air de france, bouzareah local artère principale 100% commercial.mob:0771.38.73.65 ag.', 'Insérée le': '28/01/2023', 'date_Publication': '3202-10-82T00:00', 'information_tel': '0771 38 73 65', 'uploaded_images': [], 'user': 1}, {'titre': ' Local commercial dely ibrahim alger', 'Catégorie': 'Location', 'Localisation': 'Alger Dely Ibrahim', 'Surface': '100', 'Prix': '200', 'Texte': 'loue local commercial à dely ibrahim alger   prix : 20 millions /  tel : 0662 86 06 96 ou le  00 213 662 86 06 96', 'Insérée le': '28/01/2023', 'date_Publication': '3202-10-82T00:00', 'information_tel': '0662 86 06 96', 'uploaded_images': [], 'user': 1}, {'titre': ' Appartement f3 ouled fayet alger', 'Catégorie': 'Location', 'Localisation': 'Alger Ouled Fayet', 'Surface': '80', 'Prix': '60', 'Texte': 'loue un appartement f3 a ouled fayet les grands vents acces facile autoroute dans une cité clôturée avec espace parking garde  prix 6 millions\\r tel : 0662 86 06 96 ou le 00 213 662 86 06 96', 'Insérée le': '28/01/2023', 'date_Publication': '3202-10-82T00:00', 'information_tel': '0662 86 06 96', 'uploaded_images': [], 'user': 1}, {'titre': ' Appartement f3 staoueli alger 1', 'Catégorie': 'Location', 'Localisation': 'Alger Staoueli', 'Surface': '75', 'Prix': '40', 'Texte': 'loue un appartement f3 a staoueli mimosas convient pour famille /\\r prix : 40 000 da /\\r tel : 0662 86 06 96 ou le  00 213 662 86 06 96', 'Insérée le': '28/01/2023', 'date_Publication': '3202-10-82T00:00', 'information_tel': '0662 86 06 96', 'uploaded_images': [], 'user': 1}, {'titre': ' Photos', 'Catégorie': 'Terrain', 'Localisation': 'Biskra Biskra', 'Surface': '10', 'Prix': '350', 'Texte': \"terrains à vendre à biskra;\\r1- 1000 hectares avec un livret immobilier\\r2- 2000 hectares sous contrat coutumier\\r3- 12 hectares avec palmiers\\rpour plus d'informations contactez moi, merci\", 'Insérée le': '24/01/2023', 'date_Publication': '3202-10-42T00:00', 'uploaded_images': [<File: None>], 'information_tel': '0668620144', 'user': 1}, {'titre': ' Photos', 'Catégorie': 'Vente', 'Localisation': 'Tlemcen Ghazaouet', 'Adresse': 'chfeck a ghazaouat', 'Surface': '95', 'Prix': '11', 'Texte': 'a vendre villa a ghazaouat jamais habitee annee 2014 jamais habitee a chfek quartier residentiel tres calmes et familiales principalement immigree et militaire de tres bons voisinage comprenant au rez de chaussee entree porte blindee salon tout neuf garage electrique bache d eau chauffe bain tout neuf wc lavabo cour cuisine equipee four plaque de cuisson frigo rangement a letage 3 chambres wc lavabo douche au dernier etage vue sur la mer  papier en regle livret foncier chauffage electricite climatisation gaz prix 58000euros negociable ou en dinard pour plud d info ou photo vous pouvez me joindre a ces numeros de telephone en algerie 0795517498 ou bien via whatsapp ou viber ou messenger 0033754587324  cordialement', 'Insérée le': '23/01/2023', 'date_Publication': '3202-10-32T00:00', 'uploaded_images': [<File: None>, <File: None>, <File: None>, <File: None>, <File: None>], 'information_tel': '0795517498', 'user': 1}, {'titre': ' Photos', 'Catégorie': 'Vente', 'Localisation': 'Alger Baba Hassen', 'Adresse': 'rue mohamed slimani', 'Surface': '230', 'Prix': '57', 'Texte': 'a vendre villa baba hassen alger fini à 70%. acte notarié et livret foncier sur bâti. le réseau chauffage central et sanitaires encastré. elle se compose de 8 chambres sur trois niveaux, une terrasse de 25 m2, trois salles de bain et trois toilettes. la maison est située à l intérieur d une résidence calme, sécurisée et clôturée au niveau de la rue mohamed slimani à baba hassen à cinq minutes de la pénétrante de cheraga et de la deuxième rocade d alger. la surface habitable est d environ 230 m2 construite sur une assiette d environ 100 m2 au sol avec un espace supplémentaire d environ 40 m2 pouvant être utilisée comme jardin et/ou garage pour deux voitures.', 'Insérée le': '21/01/2023', 'date_Publication': '3202-10-92T00:00', 'uploaded_images': [<File: None>, <File: None>, <File: None>, <File: None>], 'information_tel': '+213 66 22 22 245', 'user': 1}, {'titre': ' Loue f3 semi meublé', 'Catégorie': 'Location', 'Localisation': 'Alger Ain Bénian', 'Surface': '75', 'Prix': '50', 'Texte': 'agence immo loue f3 semi meublé ain benian.mob:0771.38.73.65 ag.', 'Insérée le': '21/01/2023', 'date_Publication': '3202-10-12T00:00', 'information_tel': '0771 38 73 65', 'uploaded_images': [], 'user': 1}, {'titre': ' Loue f4 résidence triangle staoueli', 'Catégorie': 'Location', 'Localisation': 'Alger Staoueli', 'Surface': '110', 'Prix': '120', 'Texte': 'agence immo met en location à la résidence triangle staoueli,f4 meublé libre de suite.mob:0771.38.73.65 ag', 'Insérée le': '21/01/2023', 'date_Publication': '3202-10-12T00:00', 'information_tel': '0771 38 73 65', 'uploaded_images': [], 'user': 1}, {'titre': ' Local commercial dar diaf', 'Catégorie': 'Bureaux & Commerces', 'Localisation': 'Alger Chéraga', 'Surface': '25', 'Prix': '65', 'Texte': 'agence immo loue local commercial dar diaf cheraga libre de suite.mob:0771.38.73.65 ag', 'Insérée le': '21/01/2023', 'date_Publication': '3202-10-12T00:00', 'information_tel': '0771 38 73 65', 'uploaded_images': [], 'user': 1}, {'titre': ' Appartement f4 staoueli  les romanides', 'Catégorie': 'Vente', 'Localisation': 'Alger Staoueli', 'Surface': '105', 'Prix': '27', 'Texte': 'agence immo vend résidence les romanides staoueli :f4,3e étage,sup:105m2,mob:0771.38.73.65 ag', 'Insérée le': '21/01/2023', 'date_Publication': '3202-10-12T00:00', 'information_tel': '0771 38 73 65', 'uploaded_images': [], 'user': 1}, {'titre': ' Loue f4 résidence les romanides', 'Catégorie': 'Location', 'Localisation': 'Alger Staoueli', 'Surface': '105', 'Prix': '80', 'Texte': 'agence immo loue résidence les romanides staoueli :f4,3e étage,sup:105m2,mob:0771.38.73.65 ag', 'Insérée le': '21/01/2023', 'date_Publication': '3202-10-12T00:00', 'information_tel': '0771 38 73 65', 'uploaded_images': [], 'user': 1}, {'titre': ' Villa cité des ptt', 'Catégorie': 'Vente', 'Localisation': 'Alger Hydra', 'Surface': '450', 'Prix': '22', 'Texte': 'agence immo vend villa cité des ptt hydra 450m2 bâti 125m2.mob:0771.38.73.65 ag', 'Insérée le': '21/01/2023', 'date_Publication': '3202-10-12T00:00', 'information_tel': '0771 38 73 65', 'uploaded_images': [], 'user': 1}, {'titre': ' Villa hydra les crêtes', 'Catégorie': 'Location', 'Localisation': 'Alger Hydra', 'Surface': '320', 'Prix': '700', 'Texte': 'agence immo loue villa r+3 les crêtes hydra composé de 3 appartement f4.mob:0771.38.73.65 ag', 'Insérée le': '21/01/2023', 'date_Publication': '3202-10-12T00:00', 'information_tel': '0771 38 73 65', 'uploaded_images': [], 'user': 1}, {'titre': ' F4 rue des pins', 'Catégorie': 'Location', 'Localisation': 'Alger Hydra', 'Surface': '100', 'Prix': '130', 'Texte': 'agence immo loue f4 hydra rue des pins pour bureau ou activité.mob:0771.38.73.65 ag', 'Insérée le': '21/01/2023', 'date_Publication': '3202-10-12T00:00', 'information_tel': '0771 38 73 65', 'uploaded_images': [], 'user': 1}]\n"
     ]
    }
   ],
   "source": [
    "print(rel_data_ai)"
   ]
  },
  {
   "cell_type": "code",
   "execution_count": 17,
   "id": "59707e4c-29f2-44c5-a65f-f2306e8b92af",
   "metadata": {},
   "outputs": [
    {
     "name": "stdout",
     "output_type": "stream",
     "text": [
      "scrapping.jpeg\n",
      "image/jpeg\n"
     ]
    }
   ],
   "source": [
    "import requests\n",
    "import magic\n",
    "from io import BytesIO\n",
    "response = requests.get('https://picsum.photos/id/237/200/300')\n",
    "\n",
    "file_stream = BytesIO(response.content)\n",
    "magic_obj = magic.Magic(mime=True)\n",
    "\n",
    "# Get the MIME type of the file\n",
    "file_type = magic_obj.from_buffer(file_stream.getvalue())\n",
    "name_image = \"scrapping.\"+file_type.split('/')[1]\n",
    "print(name_image)\n",
    "print(file_type)"
   ]
  },
  {
   "cell_type": "code",
   "execution_count": 14,
   "id": "762c5cc1-b1ad-41da-a808-890ce7c5fd79",
   "metadata": {},
   "outputs": [
    {
     "name": "stdout",
     "output_type": "stream",
     "text": [
      "Defaulting to user installation because normal site-packages is not writeable\n",
      "Collecting python-magic\n",
      "  Downloading python_magic-0.4.27-py2.py3-none-any.whl (13 kB)\n",
      "Installing collected packages: python-magic\n",
      "Successfully installed python-magic-0.4.27\n"
     ]
    }
   ],
   "source": [
    "!pip install python-magic"
   ]
  },
  {
   "cell_type": "code",
   "execution_count": null,
   "id": "2fd008ee-25a6-4c75-9244-e6b607546e6e",
   "metadata": {},
   "outputs": [],
   "source": []
  }
 ],
 "metadata": {
  "kernelspec": {
   "display_name": "Python 3 (ipykernel)",
   "language": "python",
   "name": "python3"
  },
  "language_info": {
   "codemirror_mode": {
    "name": "ipython",
    "version": 3
   },
   "file_extension": ".py",
   "mimetype": "text/x-python",
   "name": "python",
   "nbconvert_exporter": "python",
   "pygments_lexer": "ipython3",
   "version": "3.10.7"
  }
 },
 "nbformat": 4,
 "nbformat_minor": 5
}
